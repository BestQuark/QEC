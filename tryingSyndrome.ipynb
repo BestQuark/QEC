{
 "cells": [
  {
   "cell_type": "code",
   "execution_count": 1,
   "metadata": {},
   "outputs": [],
   "source": [
    "import syndrome as syn"
   ]
  },
  {
   "cell_type": "code",
   "execution_count": 2,
   "metadata": {},
   "outputs": [],
   "source": [
    "error_syndromes = syn.classify_errors(\"XZZXI; IXZZX; XIXZZ; ZXIXZ\")\n",
    "minErrors = syn.minimum_weight_error(error_syndromes)"
   ]
  },
  {
   "cell_type": "code",
   "execution_count": 3,
   "metadata": {},
   "outputs": [
    {
     "data": {
      "text/plain": [
       "{(0, 0, 0, 0): 'IIIII',\n",
       " (0, 0, 0, 1): 'XIIII',\n",
       " (0, 0, 1, 0): 'IIZII',\n",
       " (0, 0, 1, 1): 'IIIIX',\n",
       " (0, 1, 0, 0): 'IIIIZ',\n",
       " (0, 1, 0, 1): 'IZIII',\n",
       " (0, 1, 1, 0): 'IIIXI',\n",
       " (0, 1, 1, 1): 'IIIIY',\n",
       " (1, 0, 0, 0): 'IXIII',\n",
       " (1, 0, 0, 1): 'IIIZI',\n",
       " (1, 0, 1, 0): 'ZIIII',\n",
       " (1, 0, 1, 1): 'YIIII',\n",
       " (1, 1, 0, 0): 'IIXII',\n",
       " (1, 1, 0, 1): 'IYIII',\n",
       " (1, 1, 1, 0): 'IIYII',\n",
       " (1, 1, 1, 1): 'IIIYI'}"
      ]
     },
     "execution_count": 3,
     "metadata": {},
     "output_type": "execute_result"
    }
   ],
   "source": [
    "syn.syndromes_symplectic2txt(minErrors)"
   ]
  },
  {
   "cell_type": "code",
   "execution_count": 4,
   "metadata": {},
   "outputs": [
    {
     "name": "stdout",
     "output_type": "stream",
     "text": [
      "The distance of the code is:  3\n"
     ]
    }
   ],
   "source": [
    "print(\"The distance of the code is: \", syn.distance_of_code(error_syndromes))"
   ]
  },
  {
   "cell_type": "code",
   "execution_count": 5,
   "metadata": {},
   "outputs": [
    {
     "name": "stdout",
     "output_type": "stream",
     "text": [
      "The probability threshold is:  0.1311 ± 0.0001\n"
     ]
    }
   ],
   "source": [
    "print(\"The probability threshold is: \", round(syn.probability_threshold(minErrors, 0.0001),4), \"± 0.0001\")"
   ]
  }
 ],
 "metadata": {
  "kernelspec": {
   "display_name": "Python 3",
   "language": "python",
   "name": "python3"
  },
  "language_info": {
   "codemirror_mode": {
    "name": "ipython",
    "version": 3
   },
   "file_extension": ".py",
   "mimetype": "text/x-python",
   "name": "python",
   "nbconvert_exporter": "python",
   "pygments_lexer": "ipython3",
   "version": "3.8.3"
  }
 },
 "nbformat": 4,
 "nbformat_minor": 4
}
