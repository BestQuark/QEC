{
 "cells": [
  {
   "cell_type": "code",
   "execution_count": 2,
   "metadata": {},
   "outputs": [],
   "source": [
    "import syndrome_v2 as syn"
   ]
  },
  {
   "cell_type": "code",
   "execution_count": 3,
   "metadata": {},
   "outputs": [],
   "source": [
    "error_syndromes = syn.classify_errors(\"XXXXIII; XXIIXXI; XIXIXIX; ZZZZIII; ZZIIZZI; ZIZIZIZ\", chunkSize = 1000)\n",
    "minErrors = syn.minimum_weight_error(error_syndromes)"
   ]
  },
  {
   "cell_type": "code",
   "execution_count": 4,
   "metadata": {},
   "outputs": [
    {
     "data": {
      "text/plain": [
       "{(0, 0, 0, 0, 0, 0): 'IIIIIII',\n",
       " (0, 0, 0, 0, 0, 1): 'IIIIIIX',\n",
       " (0, 0, 0, 0, 1, 0): 'IIIIIXI',\n",
       " (0, 0, 0, 0, 1, 1): 'IIIIXII',\n",
       " (0, 0, 0, 1, 0, 0): 'IIIXIII',\n",
       " (0, 0, 0, 1, 0, 1): 'IIXIIII',\n",
       " (0, 0, 0, 1, 1, 0): 'IXIIIII',\n",
       " (0, 0, 0, 1, 1, 1): 'XIIIIII',\n",
       " (0, 0, 1, 0, 0, 0): 'IIIIIIZ',\n",
       " (0, 0, 1, 0, 0, 1): 'IIIIIIY',\n",
       " (0, 0, 1, 0, 1, 0): ['IIIIIXZ', 'IIIIZYI', 'IIIIXIY'],\n",
       " (0, 0, 1, 0, 1, 1): ['IIIIIXY', 'IIIIXIZ', 'IIIIYZI'],\n",
       " (0, 0, 1, 1, 0, 0): ['IIXIIIY', 'IIIXIIZ', 'IIZYIII'],\n",
       " (0, 0, 1, 1, 0, 1): ['IIXIIIZ', 'IIYZIII', 'IIIXIIY'],\n",
       " (0, 0, 1, 1, 1, 0): ['XIIIIIY', 'IXIIIIZ', 'ZYIIIII'],\n",
       " (0, 0, 1, 1, 1, 1): ['XIIIIIZ', 'YZIIIII', 'IXIIIIY'],\n",
       " (0, 1, 0, 0, 0, 0): 'IIIIIZI',\n",
       " (0, 1, 0, 0, 0, 1): ['IIIIIZX', 'IIIIZIY', 'IIIIXYI'],\n",
       " (0, 1, 0, 0, 1, 0): 'IIIIIYI',\n",
       " (0, 1, 0, 0, 1, 1): ['IIIIIYX', 'IIIIXZI', 'IIIIYIZ'],\n",
       " (0, 1, 0, 1, 0, 0): ['IXIIIYI', 'IIIXIZI', 'IZIYIII'],\n",
       " (0, 1, 0, 1, 0, 1): ['XIIIIYI', 'IIXIIZI', 'ZIYIIII'],\n",
       " (0, 1, 0, 1, 1, 0): ['IXIIIZI', 'IYIZIII', 'IIIXIYI'],\n",
       " (0, 1, 0, 1, 1, 1): ['XIIIIZI', 'YIZIIII', 'IIXIIYI'],\n",
       " (0, 1, 1, 0, 0, 0): 'IIIIZII',\n",
       " (0, 1, 1, 0, 0, 1): ['IIIIIZY', 'IIIIZIX', 'IIIIYXI'],\n",
       " (0, 1, 1, 0, 1, 0): ['IIIIIYZ', 'IIIIZXI', 'IIIIYIX'],\n",
       " (0, 1, 1, 0, 1, 1): 'IIIIYII',\n",
       " (0, 1, 1, 1, 0, 0): ['XIIIYII', 'IIIXZII', 'ZIIYIII'],\n",
       " (0, 1, 1, 1, 0, 1): ['IXIIYII', 'IIXIZII', 'IZYIIII'],\n",
       " (0, 1, 1, 1, 1, 0): ['IXIIZII', 'IYZIIII', 'IIXIYII'],\n",
       " (0, 1, 1, 1, 1, 1): ['XIIIZII', 'YIIZIII', 'IIIXYII'],\n",
       " (1, 0, 0, 0, 0, 0): 'IIIZIII',\n",
       " (1, 0, 0, 0, 0, 1): ['IIXYIII', 'IIIZIIX', 'IIZIIIY'],\n",
       " (1, 0, 0, 0, 1, 0): ['IXIYIII', 'IIIZIXI', 'IZIIIYI'],\n",
       " (1, 0, 0, 0, 1, 1): ['XIIYIII', 'IIIZXII', 'ZIIIYII'],\n",
       " (1, 0, 0, 1, 0, 0): 'IIIYIII',\n",
       " (1, 0, 0, 1, 0, 1): ['IIXZIII', 'IIYIIIZ', 'IIIYIIX'],\n",
       " (1, 0, 0, 1, 1, 0): ['IXIZIII', 'IYIIIZI', 'IIIYIXI'],\n",
       " (1, 0, 0, 1, 1, 1): ['XIIZIII', 'YIIIZII', 'IIIYXII'],\n",
       " (1, 0, 1, 0, 0, 0): 'IIZIIII',\n",
       " (1, 0, 1, 0, 0, 1): ['IIYXIII', 'IIIZIIY', 'IIZIIIX'],\n",
       " (1, 0, 1, 0, 1, 0): ['XIYIIII', 'IIZIIXI', 'ZIIIIYI'],\n",
       " (1, 0, 1, 0, 1, 1): ['IXYIIII', 'IIZIXII', 'IZIIYII'],\n",
       " (1, 0, 1, 1, 0, 0): ['IIYIIIX', 'IIIYIIZ', 'IIZXIII'],\n",
       " (1, 0, 1, 1, 0, 1): 'IIYIIII',\n",
       " (1, 0, 1, 1, 1, 0): ['IXZIIII', 'IYIIZII', 'IIYIXII'],\n",
       " (1, 0, 1, 1, 1, 1): ['XIZIIII', 'YIIIIZI', 'IIYIIXI'],\n",
       " (1, 1, 0, 0, 0, 0): 'IZIIIII',\n",
       " (1, 1, 0, 0, 0, 1): ['XYIIIII', 'IZIIIIX', 'ZIIIIIY'],\n",
       " (1, 1, 0, 0, 1, 0): ['IYIXIII', 'IIIZIYI', 'IZIIIXI'],\n",
       " (1, 1, 0, 0, 1, 1): ['IYXIIII', 'IIZIYII', 'IZIIXII'],\n",
       " (1, 1, 0, 1, 0, 0): ['IYIIIXI', 'IIIYIZI', 'IZIXIII'],\n",
       " (1, 1, 0, 1, 0, 1): ['IYIIXII', 'IIYIZII', 'IZXIIII'],\n",
       " (1, 1, 0, 1, 1, 0): 'IYIIIII',\n",
       " (1, 1, 0, 1, 1, 1): ['XZIIIII', 'YIIIIIZ', 'IYIIIIX'],\n",
       " (1, 1, 1, 0, 0, 0): 'ZIIIIII',\n",
       " (1, 1, 1, 0, 0, 1): ['YXIIIII', 'IZIIIIY', 'ZIIIIIX'],\n",
       " (1, 1, 1, 0, 1, 0): ['YIXIIII', 'IIZIIYI', 'ZIIIIXI'],\n",
       " (1, 1, 1, 0, 1, 1): ['YIIXIII', 'IIIZYII', 'ZIIIXII'],\n",
       " (1, 1, 1, 1, 0, 0): ['YIIIXII', 'IIIYZII', 'ZIIXIII'],\n",
       " (1, 1, 1, 1, 0, 1): ['YIIIIXI', 'IIYIIZI', 'ZIXIIII'],\n",
       " (1, 1, 1, 1, 1, 0): ['YIIIIIX', 'IYIIIIZ', 'ZXIIIII'],\n",
       " (1, 1, 1, 1, 1, 1): 'YIIIIII'}"
      ]
     },
     "execution_count": 4,
     "metadata": {},
     "output_type": "execute_result"
    }
   ],
   "source": [
    "syn.syndromes_symplectic2txt(minErrors)"
   ]
  },
  {
   "cell_type": "code",
   "execution_count": 5,
   "metadata": {},
   "outputs": [
    {
     "name": "stdout",
     "output_type": "stream",
     "text": [
      "The distance of the code is:  3\n"
     ]
    }
   ],
   "source": [
    "print(\"The distance of the code is: \", syn.distance_of_code(error_syndromes))"
   ]
  },
  {
   "cell_type": "code",
   "execution_count": null,
   "metadata": {},
   "outputs": [],
   "source": []
  }
 ],
 "metadata": {
  "kernelspec": {
   "display_name": "Python 3",
   "language": "python",
   "name": "python3"
  },
  "language_info": {
   "codemirror_mode": {
    "name": "ipython",
    "version": 3
   },
   "file_extension": ".py",
   "mimetype": "text/x-python",
   "name": "python",
   "nbconvert_exporter": "python",
   "pygments_lexer": "ipython3",
   "version": "3.8.3"
  }
 },
 "nbformat": 4,
 "nbformat_minor": 4
}
