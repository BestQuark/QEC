{
 "cells": [
  {
   "cell_type": "code",
   "execution_count": 1,
   "metadata": {},
   "outputs": [],
   "source": [
    "import syndrome as syn"
   ]
  },
  {
   "cell_type": "code",
   "execution_count": 4,
   "metadata": {},
   "outputs": [],
   "source": [
    "error_syndromes = syn.classify_errors(\"XXXXIII; XXIIXXI; XIXIXIX; ZZZZIII; ZZIIZZI; ZIZIZIZ\")\n",
    "minErrors = syn.minimum_weight_error(error_syndromes)"
   ]
  },
  {
   "cell_type": "code",
   "execution_count": 5,
   "metadata": {},
   "outputs": [
    {
     "data": {
      "text/plain": [
       "{(0, 0, 0, 0, 0, 0): 'IIIIIII',\n",
       " (0, 0, 0, 0, 0, 1): 'IIIIIIX',\n",
       " (0, 0, 0, 0, 1, 0): 'IIIIIXI',\n",
       " (0, 0, 0, 0, 1, 1): 'IIIIXII',\n",
       " (0, 0, 0, 1, 0, 0): 'IIIXIII',\n",
       " (0, 0, 0, 1, 0, 1): 'IIXIIII',\n",
       " (0, 0, 0, 1, 1, 0): 'IXIIIII',\n",
       " (0, 0, 0, 1, 1, 1): 'XIIIIII',\n",
       " (0, 0, 1, 0, 0, 0): 'IIIIIIZ',\n",
       " (0, 0, 1, 0, 0, 1): 'IIIIIIY',\n",
       " (0, 0, 1, 0, 1, 0): ['IIIIIXZ', 'IIIIZYI', 'IIIIXIY'],\n",
       " (0, 0, 1, 0, 1, 1): ['IIIIIXY', 'IIIIXIZ', 'IIIIYZI'],\n",
       " (0, 0, 1, 1, 0, 0): ['IIIXIIZ', 'IIZYIII', 'IIXIIIY'],\n",
       " (0, 0, 1, 1, 0, 1): ['IIIXIIY', 'IIXIIIZ', 'IIYZIII'],\n",
       " (0, 0, 1, 1, 1, 0): ['IXIIIIZ', 'ZYIIIII', 'XIIIIIY'],\n",
       " (0, 0, 1, 1, 1, 1): ['IXIIIIY', 'XIIIIIZ', 'YZIIIII'],\n",
       " (0, 1, 0, 0, 0, 0): 'IIIIIZI',\n",
       " (0, 1, 0, 0, 0, 1): ['IIIIIZX', 'IIIIZIY', 'IIIIXYI'],\n",
       " (0, 1, 0, 0, 1, 0): 'IIIIIYI',\n",
       " (0, 1, 0, 0, 1, 1): ['IIIIIYX', 'IIIIXZI', 'IIIIYIZ'],\n",
       " (0, 1, 0, 1, 0, 0): ['IIIXIZI', 'IZIYIII', 'IXIIIYI'],\n",
       " (0, 1, 0, 1, 0, 1): ['IIXIIZI', 'ZIYIIII', 'XIIIIYI'],\n",
       " (0, 1, 0, 1, 1, 0): ['IIIXIYI', 'IXIIIZI', 'IYIZIII'],\n",
       " (0, 1, 0, 1, 1, 1): ['IIXIIYI', 'XIIIIZI', 'YIZIIII'],\n",
       " (0, 1, 1, 0, 0, 0): 'IIIIZII',\n",
       " (0, 1, 1, 0, 0, 1): ['IIIIIZY', 'IIIIZIX', 'IIIIYXI'],\n",
       " (0, 1, 1, 0, 1, 0): ['IIIIIYZ', 'IIIIZXI', 'IIIIYIX'],\n",
       " (0, 1, 1, 0, 1, 1): 'IIIIYII',\n",
       " (0, 1, 1, 1, 0, 0): ['IIIXZII', 'ZIIYIII', 'XIIIYII'],\n",
       " (0, 1, 1, 1, 0, 1): ['IIXIZII', 'IZYIIII', 'IXIIYII'],\n",
       " (0, 1, 1, 1, 1, 0): ['IIXIYII', 'IXIIZII', 'IYZIIII'],\n",
       " (0, 1, 1, 1, 1, 1): ['IIIXYII', 'XIIIZII', 'YIIZIII'],\n",
       " (1, 0, 0, 0, 0, 0): 'IIIZIII',\n",
       " (1, 0, 0, 0, 0, 1): ['IIIZIIX', 'IIZIIIY', 'IIXYIII'],\n",
       " (1, 0, 0, 0, 1, 0): ['IIIZIXI', 'IZIIIYI', 'IXIYIII'],\n",
       " (1, 0, 0, 0, 1, 1): ['IIIZXII', 'ZIIIYII', 'XIIYIII'],\n",
       " (1, 0, 0, 1, 0, 0): 'IIIYIII',\n",
       " (1, 0, 0, 1, 0, 1): ['IIIYIIX', 'IIXZIII', 'IIYIIIZ'],\n",
       " (1, 0, 0, 1, 1, 0): ['IIIYIXI', 'IXIZIII', 'IYIIIZI'],\n",
       " (1, 0, 0, 1, 1, 1): ['IIIYXII', 'XIIZIII', 'YIIIZII'],\n",
       " (1, 0, 1, 0, 0, 0): 'IIZIIII',\n",
       " (1, 0, 1, 0, 0, 1): ['IIIZIIY', 'IIZIIIX', 'IIYXIII'],\n",
       " (1, 0, 1, 0, 1, 0): ['IIZIIXI', 'ZIIIIYI', 'XIYIIII'],\n",
       " (1, 0, 1, 0, 1, 1): ['IIZIXII', 'IZIIYII', 'IXYIIII'],\n",
       " (1, 0, 1, 1, 0, 0): ['IIIYIIZ', 'IIZXIII', 'IIYIIIX'],\n",
       " (1, 0, 1, 1, 0, 1): 'IIYIIII',\n",
       " (1, 0, 1, 1, 1, 0): ['IIYIXII', 'IXZIIII', 'IYIIZII'],\n",
       " (1, 0, 1, 1, 1, 1): ['IIYIIXI', 'XIZIIII', 'YIIIIZI'],\n",
       " (1, 1, 0, 0, 0, 0): 'IZIIIII',\n",
       " (1, 1, 0, 0, 0, 1): ['IZIIIIX', 'ZIIIIIY', 'XYIIIII'],\n",
       " (1, 1, 0, 0, 1, 0): ['IIIZIYI', 'IZIIIXI', 'IYIXIII'],\n",
       " (1, 1, 0, 0, 1, 1): ['IIZIYII', 'IZIIXII', 'IYXIIII'],\n",
       " (1, 1, 0, 1, 0, 0): ['IIIYIZI', 'IZIXIII', 'IYIIIXI'],\n",
       " (1, 1, 0, 1, 0, 1): ['IIYIZII', 'IZXIIII', 'IYIIXII'],\n",
       " (1, 1, 0, 1, 1, 0): 'IYIIIII',\n",
       " (1, 1, 0, 1, 1, 1): ['IYIIIIX', 'XZIIIII', 'YIIIIIZ'],\n",
       " (1, 1, 1, 0, 0, 0): 'ZIIIIII',\n",
       " (1, 1, 1, 0, 0, 1): ['IZIIIIY', 'ZIIIIIX', 'YXIIIII'],\n",
       " (1, 1, 1, 0, 1, 0): ['IIZIIYI', 'ZIIIIXI', 'YIXIIII'],\n",
       " (1, 1, 1, 0, 1, 1): ['IIIZYII', 'ZIIIXII', 'YIIXIII'],\n",
       " (1, 1, 1, 1, 0, 0): ['IIIYZII', 'ZIIXIII', 'YIIIXII'],\n",
       " (1, 1, 1, 1, 0, 1): ['IIYIIZI', 'ZIXIIII', 'YIIIIXI'],\n",
       " (1, 1, 1, 1, 1, 0): ['IYIIIIZ', 'ZXIIIII', 'YIIIIIX'],\n",
       " (1, 1, 1, 1, 1, 1): 'YIIIIII'}"
      ]
     },
     "execution_count": 5,
     "metadata": {},
     "output_type": "execute_result"
    }
   ],
   "source": [
    "syn.syndromes_symplectic2txt(minErrors)"
   ]
  },
  {
   "cell_type": "code",
   "execution_count": 6,
   "metadata": {},
   "outputs": [
    {
     "name": "stdout",
     "output_type": "stream",
     "text": [
      "The distance of the code is:  3\n"
     ]
    }
   ],
   "source": [
    "print(\"The distance of the code is: \", syn.distance_of_code(error_syndromes))"
   ]
  },
  {
   "cell_type": "code",
   "execution_count": null,
   "metadata": {},
   "outputs": [],
   "source": []
  }
 ],
 "metadata": {
  "kernelspec": {
   "display_name": "Python 3",
   "language": "python",
   "name": "python3"
  },
  "language_info": {
   "codemirror_mode": {
    "name": "ipython",
    "version": 3
   },
   "file_extension": ".py",
   "mimetype": "text/x-python",
   "name": "python",
   "nbconvert_exporter": "python",
   "pygments_lexer": "ipython3",
   "version": "3.8.3"
  }
 },
 "nbformat": 4,
 "nbformat_minor": 4
}
