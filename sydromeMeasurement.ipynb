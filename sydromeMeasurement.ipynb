{
 "cells": [
  {
   "cell_type": "code",
   "execution_count": 51,
   "metadata": {},
   "outputs": [],
   "source": [
    "import numpy as np\n",
    "import matplotlib.pyplot as plt\n",
    "import itertools\n",
    "import pickle"
   ]
  },
  {
   "cell_type": "code",
   "execution_count": 58,
   "metadata": {},
   "outputs": [],
   "source": [
    "def symplectic_stabilizer(stabList):\n",
    "    \"\"\"\n",
    "    Input: (str) list of stabilizers in the form \"XXI;IXX;XXX\"\n",
    "    Output: ([np.array, np.array]) symplectic representation matrix\n",
    "    \"\"\"\n",
    "    stab = stabList.split(\";\")\n",
    "    stab = [i.replace(\" \",\"\") for i in stab]\n",
    "    \n",
    "    #test\n",
    "    lenStabs = [len(i) for i in stab]\n",
    "    eqLens = all(i==lenStabs[0] for i in lenStabs)\n",
    "    if eqLens==False:\n",
    "        print(\"Stab list no equal length\")\n",
    "        return 0\n",
    "    \n",
    "    matrixX = np.zeros((len(stab),lenStabs[0]))\n",
    "    matrixZ = np.zeros((len(stab),lenStabs[0]))\n",
    "\n",
    "    for indxgen, gen in enumerate(stab):\n",
    "        for indxop,op in enumerate(gen):\n",
    "            if op=='X':\n",
    "                matrixX[indxgen, indxop] = 1\n",
    "            elif op=='Z':\n",
    "                matrixZ[indxgen, indxop] = 1\n",
    "            elif op=='Y':\n",
    "                matrixX[indxgen, indxop] = 1\n",
    "                matrixZ[indxgen, indxop] = 1\n",
    "    \n",
    "    return [matrixX, matrixZ]"
   ]
  },
  {
   "cell_type": "code",
   "execution_count": 59,
   "metadata": {},
   "outputs": [],
   "source": [
    "def symplectic_innerProd(op1, op2):\n",
    "    \"\"\"\n",
    "    Input: opi = [binary vector, binary vector]\n",
    "    Output: (0 or 1) symplectic innerProduct between op1 and op2\n",
    "    \"\"\"\n",
    "    op1 = np.asarray(op1)\n",
    "    op2 = np.asarray(op2)\n",
    "    return np.sum(op1[0]*op2[1] + op1[1]*op2[0])%2"
   ]
  },
  {
   "cell_type": "code",
   "execution_count": 60,
   "metadata": {},
   "outputs": [],
   "source": [
    "def error_syndrome(stabList, error):\n",
    "    \"\"\"\n",
    "    Input:  symplectic matrix of stabilizer\n",
    "    Output: np.array with error syndrome:\n",
    "    \"\"\"\n",
    "    error_synd = np.zeros(stabList[0].shape[0])\n",
    "    for i in range(stabList[0].shape[0]):\n",
    "        error_synd[i] = symplectic_innerProd([stabList[0][i], stabList[1][i]], error)\n",
    "    \n",
    "    return error_synd.astype(int)"
   ]
  },
  {
   "cell_type": "code",
   "execution_count": 61,
   "metadata": {},
   "outputs": [],
   "source": [
    "def dump_chunk_errors(errorList, iterat):\n",
    "    with open(\"{iterat}_error.p\".format(iterat=str(iterat)), 'wb') as fp:\n",
    "        pickle.dump(errorList, fp, protocol=pickle.HIGHEST_PROTOCOL)\n",
    "        \n",
    "def load_chunk_errors(iterat):\n",
    "    with open(\"{iterat}_error.p\".format(iterat=str(iterat)), 'rb') as fp:\n",
    "        chunkErrors = pickle.load(fp)\n",
    "    return chunkErrors"
   ]
  },
  {
   "cell_type": "code",
   "execution_count": 62,
   "metadata": {},
   "outputs": [],
   "source": [
    "def classify_errors_small(stabList):\n",
    "    \"\"\"\n",
    "    Input: stabilizerList\n",
    "    Output: (dict) with key syndrome and value list of all posible errors in symplectic form\n",
    "    \"\"\"\n",
    "    class_errors = {}\n",
    "    symplectic_matrix = symplectic_stabilizer(stabList)\n",
    "    \n",
    "    numQubits = symplectic_matrix[0].shape[1]\n",
    "    numStabilizers = symplectic_matrix[0].shape[0]\n",
    "    \n",
    "    for error in itertools.product([0,1], repeat=numStabilizers):\n",
    "        class_errors[tuple(error)] = []\n",
    "    \n",
    "    oneError = [np.array(i) for i in itertools.product([0, 1], repeat=numQubits)]\n",
    "    errors = [[x,y] for x,y in itertools.product(oneError, oneError)]\n",
    "    \n",
    "    for error in errors:\n",
    "        syndrome = error_syndrome(symplectic_matrix, error)\n",
    "        class_errors[tuple(syndrome)].append(error)\n",
    "\n",
    "    return class_errors"
   ]
  },
  {
   "cell_type": "code",
   "execution_count": 63,
   "metadata": {},
   "outputs": [],
   "source": [
    "def classify_errors_chunks(stabList,  chunkSize = 50000):\n",
    "    \"\"\"\n",
    "    Input: stabilizerList\n",
    "    Output: (dict) with key syndrome and value list of all posible errors in symplectic form\n",
    "    \"\"\"\n",
    "    class_errors = {}\n",
    "    symplectic_matrix = symplectic_stabilizer(stabList)\n",
    "\n",
    "    numQubits = symplectic_matrix[0].shape[1]\n",
    "    numStabilizers = symplectic_matrix[0].shape[0]\n",
    "    \n",
    "    perm1 = itertools.product([0,1], repeat=numStabilizers)\n",
    "\n",
    "    for error in perm1:\n",
    "        class_errors[tuple(error)] = []\n",
    "    \n",
    "    perm2 = itertools.product([0, 1], repeat=numQubits)\n",
    "    oneError = []\n",
    "    for i in perm2:\n",
    "        oneError.append(np.array(i))\n",
    "    \n",
    "    errors = []\n",
    "    perm3 = itertools.product(oneError, oneError)\n",
    "    iteration = 0\n",
    "    for x,y in perm3:\n",
    "        errors.append([x,y])\n",
    "        if len(errors)>=chunkSize:\n",
    "            iteration+=1\n",
    "            dump_chunk_errors(errors, iteration)\n",
    "            errors = []\n",
    "                        \n",
    "    while iteration>=0:\n",
    "        \n",
    "        for error in errors:\n",
    "            syndrome = error_syndrome(symplectic_matrix, error)\n",
    "\n",
    "            class_errors[tuple(syndrome)].append(error)\n",
    "\n",
    "        if iteration!=0:\n",
    "            errors = load_chunk_errors(iteration)\n",
    "        iteration-=1\n",
    "\n",
    "    return class_errors\n",
    "    "
   ]
  },
  {
   "cell_type": "code",
   "execution_count": 65,
   "metadata": {},
   "outputs": [],
   "source": [
    "def classify_errors_weight(stabList, weights):\n",
    "    \"\"\"\n",
    "    Input: stabilizerList\n",
    "    Output: (dict) with key syndrome and value list of all posible errors in symplectic form\n",
    "    \"\"\"\n",
    "    class_errors = {}\n",
    "    symplectic_matrix = symplectic_stabilizer(stabList)\n",
    "    \n",
    "    numQubits = symplectic_matrix[0].shape[1]\n",
    "    numStabilizers = symplectic_matrix[0].shape[0]\n",
    "    \n",
    "    for error in itertools.product([0,1], repeat=numStabilizers):\n",
    "        class_errors[tuple(error)] = []\n",
    "    \n",
    "    for weight in weights:\n",
    "        oneError = [np.array(i) for i in itertools.product([0, 1], repeat=numQubits)]\n",
    "        errors = [[x,y] for x,y in itertools.product(oneError, oneError) if np.sum(np.maximum(x,y))==weight]\n",
    "\n",
    "        for error in errors:\n",
    "            syndrome = error_syndrome(symplectic_matrix, error)\n",
    "            class_errors[tuple(syndrome)].append(error)\n",
    "\n",
    "    return class_errors\n",
    "    "
   ]
  },
  {
   "cell_type": "code",
   "execution_count": 64,
   "metadata": {},
   "outputs": [],
   "source": [
    "def classify_errors(stabList, chunkSize = 0, weights = []):\n",
    "    \"\"\"\n",
    "    Input: Symplectic stabilizer list\n",
    "    Output:(dict) Classification of errors requested\n",
    "    \"\"\"\n",
    "    \n",
    "    if chunkSize == 0 and (not weights):\n",
    "        return classify_errors_small(stabList)\n",
    "    \n",
    "    elif chunkSize>0 and (not weights):\n",
    "        return classify_errors_chunks(stabList,  chunkSize = chunkSize)\n",
    "    \n",
    "    elif chunkSize==0 and (not not weights):\n",
    "        return classify_errors_weight(stabList, weights)\n",
    "    else:\n",
    "        print(\"Classification not possible\")"
   ]
  },
  {
   "cell_type": "code",
   "execution_count": 66,
   "metadata": {},
   "outputs": [],
   "source": [
    "def minimum_weight_error(errors):\n",
    "    \"\"\"\n",
    "    Input: dictionary with errors in syndromes\n",
    "    Output: dictionary with lowest weight error in syndromes\n",
    "    \"\"\"\n",
    "    minWeight = {}\n",
    "    for syndr in errors:\n",
    "        if not errors[syndr]:\n",
    "            continue\n",
    "        minW = errors[syndr][0][0].shape[0]\n",
    "        detected = []\n",
    "        for error in errors[syndr]:\n",
    "            x,y = error\n",
    "            #weight of error\n",
    "            w = np.sum(np.maximum(x,y))\n",
    "            if w<minW:\n",
    "                minW = w\n",
    "                detected = [error]\n",
    "            elif w==minW:\n",
    "                detected.append(error)\n",
    "        minWeight[syndr] = detected\n",
    "    return minWeight      "
   ]
  },
  {
   "cell_type": "code",
   "execution_count": 67,
   "metadata": {},
   "outputs": [],
   "source": [
    "def symplectic2txt(vector):\n",
    "    \"\"\"\n",
    "    Input: a symplectic vector\n",
    "    Output: txt operators\n",
    "    \"\"\"\n",
    "    x,z = vector\n",
    "    operator = \"\"\n",
    "    for i in range(x.shape[0]):\n",
    "        if x[i]==1 and z[i]==0:\n",
    "            operator+=\"X\"\n",
    "        elif x[i]==0 and z[i]==1:\n",
    "            operator+=\"Z\"\n",
    "        elif x[i]==1 and z[i]==1:\n",
    "            operator+=\"Y\"\n",
    "        elif x[i]==0 and z[i]==0:\n",
    "            operator+=\"I\"\n",
    "            \n",
    "    return operator"
   ]
  },
  {
   "cell_type": "code",
   "execution_count": 68,
   "metadata": {},
   "outputs": [],
   "source": [
    "def syndromes_symplectic2txt(syndrom_dict):\n",
    "    \"\"\"\n",
    "    Input: dictionary of syndromes in symplectic\n",
    "    Output: dictionary of syndromes in txt\n",
    "    \"\"\"\n",
    "    syndromes = syndrom_dict.copy()\n",
    "    for i in syndromes:\n",
    "        if len(syndromes[i])==1:\n",
    "            syndromes[i] = symplectic2txt(*syndromes[i])\n",
    "        else:\n",
    "            newtxt = []\n",
    "            for j in syndromes[i]:\n",
    "                newtxt.append(symplectic2txt(j))\n",
    "            syndromes[i] = newtxt\n",
    "    return syndromes"
   ]
  },
  {
   "cell_type": "code",
   "execution_count": 69,
   "metadata": {},
   "outputs": [],
   "source": [
    "def distance_of_code(syndromes):\n",
    "    \"\"\"\n",
    "    Input: dict of syndromes in symplectic form\n",
    "    Output: distance of code\n",
    "    \"\"\"\n",
    "    commutingOps = syndromes[list(syndromes.keys())[0]]\n",
    "    try:\n",
    "        dist = commutingOps[0][0].shape[0]\n",
    "    except IndexError:\n",
    "        print(\"Cannot calculate the distance of the code because the normalizer of the stabilizer is empty\")\n",
    "        return -999\n",
    "    for op in commutingOps:\n",
    "        x,z = op\n",
    "        weight = np.sum(np.maximum(x,z))\n",
    "        \n",
    "        if weight!=0 and weight<dist:\n",
    "            dist = weight\n",
    "    return dist"
   ]
  },
  {
   "cell_type": "code",
   "execution_count": 124,
   "metadata": {},
   "outputs": [],
   "source": [
    "def fidelity(minWeightErrors, probX = 1/3, probY = 1/3, probZ = 1/3):\n",
    "    \"\"\"\n",
    "    Input: dictionary of minWeightErrors (only works with one encoded qubit)\n",
    "    Output: calculates fidelity of state after error correction on channel (1- probX - probY - probZ) I + probX (X rho X) + probY (Y rho Y)     probZ (Z rho Z)\n",
    "    \"\"\"\n",
    "    probI = 1 - (probX + probY + probZ) \n",
    "    fid = 0\n",
    "    for error in minWeightErrors:\n",
    "        if len(minWeightErrors[error])==1:\n",
    "            probFix = 1\n",
    "            x,z = minWeightErrors[error][0]        \n",
    "            for qubit in range(x.shape[0]):\n",
    "                if x[qubit]==0 and z[qubit]==0:\n",
    "                    probFix = probFix*probI\n",
    "                elif x[qubit]==1 and z[qubit]==0:\n",
    "                    probFix = probFix*probX\n",
    "                elif x[qubit]==0 and z[qubit]==1:\n",
    "                    probFix = probFix*probZ\n",
    "                elif x[qubit]==1 and z[qubit]==1:\n",
    "                    probFix = probFix*probY\n",
    "            fid += probFix\n",
    "    return fid"
   ]
  },
  {
   "cell_type": "code",
   "execution_count": 155,
   "metadata": {},
   "outputs": [],
   "source": [
    "def probability_threshold(minWeightErrors, epsilon = 0.001):\n",
    "    numSteps =int( 1//(2*epsilon) + 1 )\n",
    "    fidel = [fidelity(minWeightErrors, p/3, p/3, p/3) for p in np.linspace(0,1,numSteps)]\n",
    "    whenOver = np.where(fidel>1-np.linspace(0,1,numSteps), np.linspace(0,1,numSteps), np.zeros(numSteps))\n",
    "    \n",
    "    maxprob = 0\n",
    "    for prob in whenOver:\n",
    "        if prob > maxprob:\n",
    "            maxprob = prob\n",
    "    return maxprob + epsilon"
   ]
  },
  {
   "cell_type": "code",
   "execution_count": 122,
   "metadata": {},
   "outputs": [],
   "source": [
    "def save_syndromes(nombreArchivo, errorSyndrome) -> None:\n",
    "    \"\"\"\n",
    "    Input: (str, errorSyndrome) saves syndrome in three files, min weights, allErrors and properties\n",
    "    \"\"\"\n",
    "    minErrors = minimum_weight_error(errorSyndrome)\n",
    "    minErrorsTxt = syndromes_symplectic2txt(minErrors)\n",
    "    distance = distance_of_code(errorSyndrome)\n",
    "    \n",
    "    f = open(\"{fnombre}_Properties.txt\".format(fnombre=nombreArchivo), \"w\")\n",
    "    f.write(\"Distance of code: \"+ str(distance))\n",
    "    f.write(\"\\nCorrectable Errors: \")\n",
    "    for i in minErrorsTxt:\n",
    "        f.write(\"\\nSyndrome: \"+str(i)+ \"; Error: \" + str(minErrorsTxt[i]))\n",
    "    f.close()\n",
    "    \n",
    "    with open(\"{fnombre}_AllErrors.p\".format(fnombre=str(nombreArchivo)), 'wb') as fp:\n",
    "        pickle.dump(errorSyndrome, fp, protocol=pickle.HIGHEST_PROTOCOL)\n",
    "        \n",
    "    with open(\"{fnombre}_MinWeightErrors.p\".format(fnombre=str(nombreArchivo)), 'wb') as fp:\n",
    "        pickle.dump(minErrors, fp, protocol=pickle.HIGHEST_PROTOCOL)\n",
    "    "
   ]
  },
  {
   "cell_type": "code",
   "execution_count": 123,
   "metadata": {},
   "outputs": [],
   "source": [
    "def open_syndromes(nombreArchivo):\n",
    "    \"\"\"\n",
    "    Input: (str) name of code \n",
    "    Output: error syndrome and minimum weight errors\n",
    "    \"\"\"\n",
    "    with open(\"{fnombre}_AllErrors.p\".format(fnombre=str(nombreArchivo)), 'rb') as fp:\n",
    "        all_errors = pickle.load(fp)\n",
    "        \n",
    "    with open(\"{fnombre}_MinWeightErrors.p\".format(fnombre=str(nombreArchivo)), 'rb') as fp2:\n",
    "        minWeight_errors = pickle.load(fp2)\n",
    "    return all_errors, minWeight_errors"
   ]
  },
  {
   "cell_type": "code",
   "execution_count": 125,
   "metadata": {},
   "outputs": [],
   "source": [
    "errorsfiv= classify_errors(\"XZZXI; IXZZX; XIXZZ; ZXIXZ\", weights=[0,1,2])\n",
    "errors = classify_errors(\"XXI; IXX\")"
   ]
  },
  {
   "cell_type": "code",
   "execution_count": 126,
   "metadata": {},
   "outputs": [],
   "source": [
    "dics = minimum_weight_error(errors)\n",
    "corrErrs = syndromes_symplectic2txt(dics)\n",
    "distance = distance_of_code(errors)"
   ]
  },
  {
   "cell_type": "code",
   "execution_count": 127,
   "metadata": {},
   "outputs": [],
   "source": [
    "dicsfiv = minimum_weight_error(errorsfiv)\n",
    "corrErrsfiv = syndromes_symplectic2txt(dicsfiv)\n",
    "distancefiv = distance_of_code(errorsfiv)"
   ]
  },
  {
   "cell_type": "code",
   "execution_count": 108,
   "metadata": {},
   "outputs": [
    {
     "data": {
      "text/plain": [
       "5"
      ]
     },
     "execution_count": 108,
     "metadata": {},
     "output_type": "execute_result"
    }
   ],
   "source": [
    "distancefiv"
   ]
  },
  {
   "cell_type": "code",
   "execution_count": 156,
   "metadata": {},
   "outputs": [
    {
     "data": {
      "text/plain": [
       "0.13026052104208416"
      ]
     },
     "execution_count": 156,
     "metadata": {},
     "output_type": "execute_result"
    }
   ],
   "source": [
    "probability_threshold(dicsfiv)"
   ]
  },
  {
   "cell_type": "code",
   "execution_count": 116,
   "metadata": {},
   "outputs": [
    {
     "data": {
      "text/plain": [
       "Text(0.5, 1.0, 'Depolarizing channel')"
      ]
     },
     "execution_count": 116,
     "metadata": {},
     "output_type": "execute_result"
    },
    {
     "data": {
      "image/png": "[encoded data removed]",
      "text/plain": [
       "<Figure size 432x288 with 1 Axes>"
      ]
     },
     "metadata": {
      "needs_background": "light"
     },
     "output_type": "display_data"
    }
   ],
   "source": [
    "fids = [fidelity(dics, p/3, p/3, p/3) for p in np.linspace(0,1,100)]\n",
    "fidsf = [fidelity(dicsfiv, p/3, p/3, p/3) for p in np.linspace(0,1,100)]\n",
    "\n",
    "plt.plot(np.linspace(0,1,100), fids, label = \"3-qubit repetition\", c = 'b')\n",
    "plt.plot(np.linspace(0,1,100), fidsf, label = \"5-qubit perfect\", c = 'g')\n",
    "plt.plot(np.linspace(0,1,100),1-np.linspace(0,1,100), label = \"No QEC\", c='r')\n",
    "plt.legend()\n",
    "plt.xlabel(r'$p_{error}$')\n",
    "plt.ylabel(\"Fidelity\")\n",
    "plt.title(\"Depolarizing channel\")"
   ]
  },
  {
   "cell_type": "code",
   "execution_count": 130,
   "metadata": {},
   "outputs": [],
   "source": [
    "fids7 = [fidelity(dicsfiv, p/3, p/3, p/3) for p in np.linspace(0,1,1000)]"
   ]
  },
  {
   "cell_type": "code",
   "execution_count": null,
   "metadata": {},
   "outputs": [],
   "source": [
    "f = open(\"distance.txt\", \"w\")\n",
    "f.write(\"Distance of code: \"+ str(distance))\n",
    "f.write(\"\\nCorrectable Errors: \")\n",
    "for i in corrErrs:\n",
    "    f.write(\"\\nSyndrome: \"+str(i)+ \"; Error: \" + str(corrErrs[i]))\n",
    "f.close()\n",
    "\n",
    "#open and read the file after the appending:\n",
    "f = open(\"distance.txt\", \"r\")\n",
    "print(f.read())"
   ]
  },
  {
   "cell_type": "code",
   "execution_count": null,
   "metadata": {},
   "outputs": [],
   "source": [
    "g1 = \"X Y X 1 X Y X 1 Y Z Y 1 1 1 1 1 Y Z Y 1;\"\n",
    "g2 = \"Y Z Y 1 Y Z Y 1 Z X Z 1 1 1 1 1 Z X Z 1;\"\n",
    "g3 = \"Y Z Y 1 X Y X 1 X Y X 1 Y Z 1 1 1 1 1 1;\"\n",
    "g4 = \"Z X Z 1 Y Z Y 1 Y Z Y 1 Z X Z 1 1 1 1 1;\"\n",
    "g5 = \"Z Y Y Z 1 1 1 1 1 1 1 1 1 1 1 1 1 1 1 1;\"\n",
    "g6 = \"X Z Z X 1 1 1 1 1 1 1 1 1 1 1 1 1 1 1 1;\"\n",
    "g7 = \"1 1 1 1 Z Y Y Z 1 1 1 1 1 1 1 1 1 1 1 1;\"\n",
    "g8 = \"1 1 1 1 X Z Z X 1 1 1 1 1 1 1 1 1 1 1 1;\"\n",
    "g9 = \"1 1 1 1 1 1 1 1 Z Y Y Z 1 1 1 1 1 1 1 1;\"\n",
    "g10= \"1 1 1 1 1 1 1 1 X Z Z X 1 1 1 1 1 1 1 1;\"\n",
    "g11= \"1 1 1 1 1 1 1 1 1 1 1 1 Z Y Y Z 1 1 1 1;\"\n",
    "g12= \"1 1 1 1 1 1 1 1 1 1 1 1 X Z Z X 1 1 1 1;\"\n",
    "g13= \"1 1 1 1 1 1 1 1 1 1 1 1 1 1 1 1 Z Y Y Z;\"\n",
    "g14= \"1 1 1 1 1 1 1 1 1 1 1 1 1 1 1 1 X Z Z X;\"\n",
    "g15= \"1 1 Z X 1 1 Z X X X X X X 1 Y Y X 1 Y Y;\"\n",
    "g16= \"1 X Z Z X 1 X Z X 1 X Z 1 X Z Z 1 1 1 1\"\n",
    "stabs = g1+g2+g3+g4+g5+g6+g7+g8+g9+g10+g11+g12+g13+g14+g15+g16"
   ]
  },
  {
   "cell_type": "code",
   "execution_count": null,
   "metadata": {},
   "outputs": [],
   "source": [
    "errorsHolography = classify_errors(stabs)"
   ]
  },
  {
   "cell_type": "code",
   "execution_count": null,
   "metadata": {},
   "outputs": [],
   "source": [
    "distance_of_code(errorsHolography)"
   ]
  },
  {
   "cell_type": "code",
   "execution_count": null,
   "metadata": {},
   "outputs": [],
   "source": [
    "txt =\"XXXXIII; XXIIXXI; XIXIXIX; ZZZZIII; ZZIIZZI; ZIZIZIZ\""
   ]
  },
  {
   "cell_type": "code",
   "execution_count": 93,
   "metadata": {},
   "outputs": [],
   "source": [
    "errors = classify_errors(\"XXXXIII; XXIIXXI; XIXIXIX; ZZZZIII; ZZIIZZI; ZIZIZIZ\")"
   ]
  },
  {
   "cell_type": "code",
   "execution_count": 116,
   "metadata": {},
   "outputs": [],
   "source": [
    "distance = distance_of_code(errors)"
   ]
  },
  {
   "cell_type": "code",
   "execution_count": null,
   "metadata": {},
   "outputs": [],
   "source": [
    "save_syndromes(\"steane\", errors)"
   ]
  },
  {
   "cell_type": "code",
   "execution_count": null,
   "metadata": {},
   "outputs": [],
   "source": [
    "minimum_weight_error(errors)[(1, 1, 1, 0, 0, 1)]"
   ]
  },
  {
   "cell_type": "code",
   "execution_count": null,
   "metadata": {},
   "outputs": [],
   "source": [
    "error_syndrome(symplectic_stabilizer(txt), symplectic_stabilizer(\"XIIIIII\"))"
   ]
  },
  {
   "cell_type": "code",
   "execution_count": null,
   "metadata": {},
   "outputs": [],
   "source": [
    "error_syndrome(symplectic_stabilizer(txt), symplectic_stabilizer(\"IZIIIII\"))"
   ]
  },
  {
   "cell_type": "code",
   "execution_count": null,
   "metadata": {},
   "outputs": [],
   "source": [
    "error_syndrome(symplectic_stabilizer(txt), symplectic_stabilizer(\"IYIIIIX\"))"
   ]
  },
  {
   "cell_type": "code",
   "execution_count": null,
   "metadata": {},
   "outputs": [],
   "source": [
    "error_syndrome(symplectic_stabilizer(txt), symplectic_stabilizer(\"XZIIIII\"))"
   ]
  },
  {
   "cell_type": "code",
   "execution_count": null,
   "metadata": {},
   "outputs": [],
   "source": [
    "symplectic_stabilizer(\"IYIIIIX\")"
   ]
  },
  {
   "cell_type": "code",
   "execution_count": null,
   "metadata": {},
   "outputs": [],
   "source": [
    "error_syndrome(symplectic_stabilizer(txt), symplectic_stabilizer(\"IXIIIIX\"))"
   ]
  },
  {
   "cell_type": "code",
   "execution_count": null,
   "metadata": {},
   "outputs": [],
   "source": [
    "error_syndrome(symplectic_stabilizer(txt), symplectic_stabilizer(\"IZIIIIX\"))"
   ]
  },
  {
   "cell_type": "code",
   "execution_count": null,
   "metadata": {},
   "outputs": [],
   "source": [
    "symplectic_stabilizer(\"IYIIIIX\")"
   ]
  },
  {
   "cell_type": "code",
   "execution_count": 3,
   "metadata": {},
   "outputs": [],
   "source": [
    "import syndrome as syn"
   ]
  },
  {
   "cell_type": "code",
   "execution_count": null,
   "metadata": {},
   "outputs": [],
   "source": [
    "x,y = open_syndromes(\"steane\")"
   ]
  },
  {
   "cell_type": "code",
   "execution_count": 4,
   "metadata": {},
   "outputs": [],
   "source": [
    "txt =\"XXXXIII; XXIIXXI; XIXIXIX; ZZZZIII; ZZIIZZI; ZIZIZIZ\""
   ]
  },
  {
   "cell_type": "code",
   "execution_count": 7,
   "metadata": {},
   "outputs": [],
   "source": [
    "errors = syn.classify_errors(txt)"
   ]
  },
  {
   "cell_type": "code",
   "execution_count": 129,
   "metadata": {},
   "outputs": [],
   "source": [
    "save_syndromes(\"try1\", errors)"
   ]
  },
  {
   "cell_type": "code",
   "execution_count": 15,
   "metadata": {},
   "outputs": [],
   "source": [
    "x,y = syn.open_syndromes(\"steane2\")"
   ]
  },
  {
   "cell_type": "code",
   "execution_count": 16,
   "metadata": {},
   "outputs": [
    {
     "data": {
      "text/plain": [
       "{(0, 0, 0, 0): [[array([0, 0, 0, 0, 0]), array([0, 0, 0, 0, 0])]],\n",
       " (0, 0, 0, 1): [[array([1, 0, 0, 0, 0]), array([0, 0, 0, 0, 0])]],\n",
       " (0, 0, 1, 0): [[array([0, 0, 0, 0, 0]), array([0, 0, 1, 0, 0])]],\n",
       " (0, 0, 1, 1): [[array([0, 0, 0, 0, 1]), array([0, 0, 0, 0, 0])]],\n",
       " (0, 1, 0, 0): [[array([0, 0, 0, 0, 0]), array([0, 0, 0, 0, 1])]],\n",
       " (0, 1, 0, 1): [[array([0, 0, 0, 0, 0]), array([0, 1, 0, 0, 0])]],\n",
       " (0, 1, 1, 0): [[array([0, 0, 0, 1, 0]), array([0, 0, 0, 0, 0])]],\n",
       " (0, 1, 1, 1): [[array([0, 0, 0, 0, 1]), array([0, 0, 0, 0, 1])]],\n",
       " (1, 0, 0, 0): [[array([0, 1, 0, 0, 0]), array([0, 0, 0, 0, 0])]],\n",
       " (1, 0, 0, 1): [[array([0, 0, 0, 0, 0]), array([0, 0, 0, 1, 0])]],\n",
       " (1, 0, 1, 0): [[array([0, 0, 0, 0, 0]), array([1, 0, 0, 0, 0])]],\n",
       " (1, 0, 1, 1): [[array([1, 0, 0, 0, 0]), array([1, 0, 0, 0, 0])]],\n",
       " (1, 1, 0, 0): [[array([0, 0, 1, 0, 0]), array([0, 0, 0, 0, 0])]],\n",
       " (1, 1, 0, 1): [[array([0, 1, 0, 0, 0]), array([0, 1, 0, 0, 0])]],\n",
       " (1, 1, 1, 0): [[array([0, 0, 1, 0, 0]), array([0, 0, 1, 0, 0])]],\n",
       " (1, 1, 1, 1): [[array([0, 0, 0, 1, 0]), array([0, 0, 0, 1, 0])]]}"
      ]
     },
     "execution_count": 16,
     "metadata": {},
     "output_type": "execute_result"
    }
   ],
   "source": [
    "y"
   ]
  },
  {
   "cell_type": "code",
   "execution_count": null,
   "metadata": {},
   "outputs": [],
   "source": []
  },
  {
   "cell_type": "code",
   "execution_count": 13,
   "metadata": {},
   "outputs": [],
   "source": [
    "# def classify_errors_weight(stabList, weight):\n",
    "#     \"\"\"\n",
    "#     Input: stabilizerList\n",
    "#     Output: (dict) with key syndrome and value list of all posible errors in symplectic form\n",
    "#     \"\"\"\n",
    "#     class_errors = {}\n",
    "#     symplectic_matrix = symplectic_stabilizer(stabList)\n",
    "    \n",
    "#     numQubits = symplectic_matrix[0].shape[1]\n",
    "#     numStabilizers = symplectic_matrix[0].shape[0]\n",
    "    \n",
    "#     errorW = np.ones(weight)\n",
    "#     weightErrs = []\n",
    "#     for i in itertools.permutations(np.append(errorW.astype(int), np.zeros(numQubits-weight).astype(int))):\n",
    "#         weightErrs.append(i)\n",
    "    \n",
    "#     weightErrs = set(weightErrs)\n",
    "#     weightErrs = [np.asarray(i) for i in weightErrs]\n",
    "    \n",
    "    \n",
    "#     ##NEED TO FIX THERE ARE NO ERRORS OF THE FORM XIIZ\n",
    "    \n",
    "#     errorsx = [[x, np.zeros(numQubits).astype(int)] for x in weightErrs]\n",
    "#     errorsy = [[x,x] for x in weightErrs]\n",
    "#     errorsz = [[np.zeros(numQubits).astype(int), x] for x in weightErrs]\n",
    "#     errors = errorsx+errorsy+errorsz\n",
    "#     for error in errors:\n",
    "#         syndrome = error_syndrome(symplectic_matrix, error)\n",
    "#         if tuple(syndrome) in class_errors:\n",
    "#             class_errors[tuple(syndrome)].append(error)\n",
    "#         else:\n",
    "#             class_errors[tuple(syndrome)] = [error]\n",
    "    \n",
    "#     return class_errors"
   ]
  }
 ],
 "metadata": {
  "kernelspec": {
   "display_name": "Python 3",
   "language": "python",
   "name": "python3"
  },
  "language_info": {
   "codemirror_mode": {
    "name": "ipython",
    "version": 3
   },
   "file_extension": ".py",
   "mimetype": "text/x-python",
   "name": "python",
   "nbconvert_exporter": "python",
   "pygments_lexer": "ipython3",
   "version": "3.8.3"
  }
 },
 "nbformat": 4,
 "nbformat_minor": 2
}
