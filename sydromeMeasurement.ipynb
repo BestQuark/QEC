{
 "cells": [
  {
   "cell_type": "code",
   "execution_count": 1,
   "metadata": {},
   "outputs": [],
   "source": [
    "import numpy as np\n",
    "import matplotlib.pyplot as plt\n",
    "import itertools"
   ]
  },
  {
   "cell_type": "code",
   "execution_count": 50,
   "metadata": {},
   "outputs": [],
   "source": [
    "def symplectic_stabilizer(stabList):\n",
    "    \"\"\"\n",
    "    Input: (str) list of stabilizers in the form \"XXI;IXX;XXX\"\n",
    "    Output: ([np.array, np.array]) symplectic representation matrix\n",
    "    \"\"\"\n",
    "    stab = stabList.split(\";\")\n",
    "    stab = [i.replace(\" \",\"\") for i in stab]\n",
    "    \n",
    "    #test\n",
    "    lenStabs = [len(i) for i in stab]\n",
    "    eqLens = all(i==lenStabs[0] for i in lenStabs)\n",
    "    if eqLens==False:\n",
    "        print(\"Stab list no equal length\")\n",
    "        return 0\n",
    "    \n",
    "    matrixX = np.zeros((len(stab),lenStabs[0]))\n",
    "    matrixZ = np.zeros((len(stab),lenStabs[0]))\n",
    "\n",
    "    for indxgen, gen in enumerate(stab):\n",
    "        for indxop,op in enumerate(gen):\n",
    "            if op=='X':\n",
    "                matrixX[indxgen, indxop] = 1\n",
    "            elif op=='Z':\n",
    "                matrixZ[indxgen, indxop] = 1\n",
    "            elif op=='Y':\n",
    "                matrixX[indxgen, indxop] = 1\n",
    "                matrixZ[indxgen, indxop] = 1\n",
    "    \n",
    "    return [matrixX, matrixZ]"
   ]
  },
  {
   "cell_type": "code",
   "execution_count": 3,
   "metadata": {},
   "outputs": [],
   "source": [
    "def symplectic_innerProd(op1, op2):\n",
    "    \"\"\"\n",
    "    Input: opi = [binary vector, binary vector]\n",
    "    Output: (0 or 1) symplectic innerProduct between op1 and op2\n",
    "    \"\"\"\n",
    "    op1 = np.asarray(op1)\n",
    "    op2 = np.asarray(op2)\n",
    "    return np.sum(op1[0]*op2[1] + op1[1]*op2[0])%2"
   ]
  },
  {
   "cell_type": "code",
   "execution_count": 4,
   "metadata": {},
   "outputs": [],
   "source": [
    "def error_syndrome(stabList, error):\n",
    "    \"\"\"\n",
    "    Input:  symplectic matrix of stabilizer\n",
    "    Output: np.array with error syndrome:\n",
    "    \"\"\"\n",
    "    error_synd = np.zeros(stabList[0].shape[0])\n",
    "    for i in range(stabList[0].shape[0]):\n",
    "        error_synd[i] = symplectic_innerProd([stabList[0][i], stabList[1][i]], error)\n",
    "    \n",
    "    return error_synd.astype(int)"
   ]
  },
  {
   "cell_type": "code",
   "execution_count": 110,
   "metadata": {},
   "outputs": [],
   "source": [
    "def classify_errors(stabList):\n",
    "    \"\"\"\n",
    "    Input: stabilizerList\n",
    "    Output: (dict) with key syndrome and value list of all posible errors in symplectic form\n",
    "    \"\"\"\n",
    "    class_errors = {}\n",
    "    symplectic_matrix = symplectic_stabilizer(stabList)\n",
    "    \n",
    "    numQubits = symplectic_matrix[0].shape[1]\n",
    "    numStabilizers = symplectic_matrix[0].shape[0]\n",
    "    \n",
    "    for error in itertools.product([0,1], repeat=numStabilizers):\n",
    "        class_errors[tuple(error)] = []\n",
    "    \n",
    "    oneError = [np.array(i) for i in itertools.product([0, 1], repeat=numQubits)]\n",
    "    errors = [[x,y] for x,y in itertools.product(oneError, oneError)]\n",
    "    \n",
    "    for error in errors:\n",
    "        syndrome = error_syndrome(symplectic_matrix, error)\n",
    "        class_errors[tuple(syndrome)].append(error)\n",
    "\n",
    "    \n",
    "    return class_errors\n",
    "    "
   ]
  },
  {
   "cell_type": "code",
   "execution_count": 82,
   "metadata": {},
   "outputs": [],
   "source": [
    "# def classify_errors_weight(stabList, weight):\n",
    "#     \"\"\"\n",
    "#     Input: stabilizerList\n",
    "#     Output: (dict) with key syndrome and value list of all posible errors in symplectic form\n",
    "#     \"\"\"\n",
    "#     class_errors = {}\n",
    "#     symplectic_matrix = symplectic_stabilizer(stabList)\n",
    "    \n",
    "#     numQubits = symplectic_matrix[0].shape[1]\n",
    "#     numStabilizers = symplectic_matrix[0].shape[0]\n",
    "    \n",
    "#     errorW = np.ones(weight)\n",
    "#     weightErrs = []\n",
    "#     for i in itertools.permutations(np.append(errorW.astype(int), np.zeros(numQubits-weight).astype(int))):\n",
    "#         weightErrs.append(i)\n",
    "    \n",
    "#     weightErrs = set(weightErrs)\n",
    "#     weightErrs = [np.asarray(i) for i in weightErrs]\n",
    "    \n",
    "    \n",
    "#     ##NEED TO FIX THERE ARE NO ERRORS OF THE FORM XIIZ\n",
    "    \n",
    "#     errorsx = [[x, np.zeros(numQubits).astype(int)] for x in weightErrs]\n",
    "#     errorsy = [[x,x] for x in weightErrs]\n",
    "#     errorsz = [[np.zeros(numQubits).astype(int), x] for x in weightErrs]\n",
    "#     errors = errorsx+errorsy+errorsz\n",
    "#     for error in errors:\n",
    "#         syndrome = error_syndrome(symplectic_matrix, error)\n",
    "#         if tuple(syndrome) in class_errors:\n",
    "#             class_errors[tuple(syndrome)].append(error)\n",
    "#         else:\n",
    "#             class_errors[tuple(syndrome)] = [error]\n",
    "    \n",
    "#     return class_errors"
   ]
  },
  {
   "cell_type": "code",
   "execution_count": 111,
   "metadata": {},
   "outputs": [],
   "source": [
    "def classify_errors_weight(stabList, weight):\n",
    "    \"\"\"\n",
    "    Input: stabilizerList\n",
    "    Output: (dict) with key syndrome and value list of all posible errors in symplectic form\n",
    "    \"\"\"\n",
    "    class_errors = {}\n",
    "    symplectic_matrix = symplectic_stabilizer(stabList)\n",
    "    \n",
    "    numQubits = symplectic_matrix[0].shape[1]\n",
    "    numStabilizers = symplectic_matrix[0].shape[0]\n",
    "    \n",
    "    for error in itertools.product([0,1], repeat=numStabilizers):\n",
    "        class_errors[tuple(error)] = []\n",
    "    \n",
    "    oneError = [np.array(i) for i in itertools.product([0, 1], repeat=numQubits)]\n",
    "    errors = [[x,y] for x,y in itertools.product(oneError, oneError) if np.sum(np.maximum(x,y))==weight]\n",
    "    \n",
    "    for error in errors:\n",
    "        syndrome = error_syndrome(symplectic_matrix, error)\n",
    "        class_errors[tuple(syndrome)].append(error)\n",
    "\n",
    "    \n",
    "    return class_errors\n",
    "    "
   ]
  },
  {
   "cell_type": "code",
   "execution_count": 7,
   "metadata": {},
   "outputs": [],
   "source": [
    "def minimum_weight_error(errors):\n",
    "    \"\"\"\n",
    "    Input: dictionary with errors in syndromes\n",
    "    Output: dictionary with lowest weight error in syndromes\n",
    "    \"\"\"\n",
    "    minWeight = {}\n",
    "    for syndr in errors:\n",
    "        minW = errors[syndr][0][0].shape[0]\n",
    "        detected = 0\n",
    "        for error in errors[syndr]:\n",
    "            x,y = error\n",
    "            #weight of error\n",
    "            w = np.sum(np.maximum(x,y))\n",
    "            if w<minW:\n",
    "                minW = w\n",
    "                detected = [error]\n",
    "            elif w==minW:\n",
    "                detected.append(error)\n",
    "        minWeight[syndr] = detected\n",
    "    return minWeight      "
   ]
  },
  {
   "cell_type": "code",
   "execution_count": 139,
   "metadata": {},
   "outputs": [],
   "source": [
    "def symplectic2txt(vector):\n",
    "    \"\"\"\n",
    "    Input: a symplectic vector\n",
    "    Output: txt operators\n",
    "    \"\"\"\n",
    "    x,z = vector\n",
    "    operator = \"\"\n",
    "    for i in range(x.shape[0]):\n",
    "        if x[i]==1 and z[i]==0:\n",
    "            operator+=\"X\"\n",
    "        elif x[i]==0 and z[i]==1:\n",
    "            operator+=\"Z\"\n",
    "        elif x[i]==1 and z[i]==1:\n",
    "            operator+=\"Y\"\n",
    "        elif x[i]==0 and z[i]==0:\n",
    "            operator+=\"I\"\n",
    "            \n",
    "    return operator"
   ]
  },
  {
   "cell_type": "code",
   "execution_count": 146,
   "metadata": {},
   "outputs": [],
   "source": [
    "def syndromes_symplectic2txt(syndrom_dict):\n",
    "    \"\"\"\n",
    "    Input: dictionary of syndromes in symplectic\n",
    "    Output: dictionary of syndromes in txt\n",
    "    \"\"\"\n",
    "    syndromes = syndrom_dict.copy()\n",
    "    for i in syndromes:\n",
    "        if len(syndromes[i])==1:\n",
    "            syndromes[i] = symplectic2txt(*syndromes[i])\n",
    "        else:\n",
    "            newtxt = []\n",
    "            for j in syndromes[i]:\n",
    "                newtxt.append(symplectic2txt(j))\n",
    "            syndromes[i] = newtxt\n",
    "    return syndromes"
   ]
  },
  {
   "cell_type": "code",
   "execution_count": 39,
   "metadata": {},
   "outputs": [],
   "source": [
    "def distance_of_code(syndromes):\n",
    "    \"\"\"\n",
    "    Input: dict of syndromes in symplectic form\n",
    "    Output: distance of code\n",
    "    \"\"\"\n",
    "    commutingOps = syndromes[list(syndromes.keys())[0]]\n",
    "    \n",
    "    dist = commutingOps[0][0].shape[0]\n",
    "    for op in commutingOps:\n",
    "        x,z = op\n",
    "        weight = np.sum(np.maximum(x,z))\n",
    "        \n",
    "        if weight!=0 and weight<dist:\n",
    "            dist = weight\n",
    "    return dist"
   ]
  },
  {
   "cell_type": "code",
   "execution_count": 44,
   "metadata": {},
   "outputs": [],
   "source": [
    "errors= classify_errors(\"XZZXI; IXZZX; XIXZZ; ZXIXZ\")"
   ]
  },
  {
   "cell_type": "code",
   "execution_count": null,
   "metadata": {},
   "outputs": [],
   "source": [
    "errors2 = classify_errors_weight(\"XXI; IXX\",1)"
   ]
  },
  {
   "cell_type": "code",
   "execution_count": null,
   "metadata": {},
   "outputs": [],
   "source": [
    "dics = minimum_weight_error(errors)\n",
    "syndromes_symplectic2txt(dics)\n",
    "    "
   ]
  },
  {
   "cell_type": "code",
   "execution_count": 45,
   "metadata": {},
   "outputs": [
    {
     "data": {
      "text/plain": [
       "3"
      ]
     },
     "execution_count": 45,
     "metadata": {},
     "output_type": "execute_result"
    }
   ],
   "source": [
    "distance_of_code(errors)"
   ]
  },
  {
   "cell_type": "code",
   "execution_count": null,
   "metadata": {},
   "outputs": [],
   "source": [
    "np.maximum(np.array([0,1,2,3]), np.array([3,-1,2,2]))"
   ]
  },
  {
   "cell_type": "code",
   "execution_count": null,
   "metadata": {},
   "outputs": [],
   "source": [
    "g1 = \"X Y X 1 X Y X 1 Y Z Y 1 1 1 1 1 Y Z Y 1;\"\n",
    "g2 = \"Y Z Y 1 Y Z Y 1 Z X Z 1 1 1 1 1 Z X Z 1;\"\n",
    "g3 = \"Y Z Y 1 X Y X 1 X Y X 1 Y Z 1 1 1 1 1 1;\"\n",
    "g4 = \"Z X Z 1 Y Z Y 1 Y Z Y 1 Z X Z 1 1 1 1 1;\"\n",
    "g5 = \"Z Y Y Z 1 1 1 1 1 1 1 1 1 1 1 1 1 1 1 1;\"\n",
    "g6 = \"X Z Z X 1 1 1 1 1 1 1 1 1 1 1 1 1 1 1 1;\"\n",
    "g7 = \"1 1 1 1 Z Y Y Z 1 1 1 1 1 1 1 1 1 1 1 1;\"\n",
    "g8 = \"1 1 1 1 X Z Z X 1 1 1 1 1 1 1 1 1 1 1 1;\"\n",
    "g9 = \"1 1 1 1 1 1 1 1 Z Y Y Z 1 1 1 1 1 1 1 1;\"\n",
    "g10= \"1 1 1 1 1 1 1 1 X Z Z X 1 1 1 1 1 1 1 1;\"\n",
    "g11= \"1 1 1 1 1 1 1 1 1 1 1 1 Z Y Y Z 1 1 1 1;\"\n",
    "g12= \"1 1 1 1 1 1 1 1 1 1 1 1 X Z Z X 1 1 1 1;\"\n",
    "g13= \"1 1 1 1 1 1 1 1 1 1 1 1 1 1 1 1 Z Y Y Z;\"\n",
    "g14= \"1 1 1 1 1 1 1 1 1 1 1 1 1 1 1 1 X Z Z X;\"\n",
    "g15= \"1 1 Z X 1 1 Z X X X X X X 1 Y Y X 1 Y Y;\"\n",
    "g16= \"1 X Z Z X 1 X Z X 1 X Z 1 X Z Z 1 1 1 1\"\n",
    "stabs = g1+g2+g3+g4+g5+g6+g7+g8+g9+g10+g11+g12+g13+g14+g15+g16"
   ]
  },
  {
   "cell_type": "code",
   "execution_count": null,
   "metadata": {},
   "outputs": [],
   "source": [
    "errorsHolography = classify_errors(stabs)"
   ]
  },
  {
   "cell_type": "code",
   "execution_count": null,
   "metadata": {},
   "outputs": [],
   "source": [
    "distance_of_code(errorsHolography)"
   ]
  },
  {
   "cell_type": "code",
   "execution_count": 33,
   "metadata": {},
   "outputs": [],
   "source": [
    "txt =\"XXXXIII; XXIIXXI; XIXIXIX; ZZZZIII; ZZIIZZI; ZIZIZIZ\""
   ]
  },
  {
   "cell_type": "code",
   "execution_count": 46,
   "metadata": {},
   "outputs": [],
   "source": [
    "errors = classify_errors(\"XXXXIII; XXIIXXI; XIXIXIX; ZZZZIII; ZZIIZZI; ZIZIZIZ\")"
   ]
  },
  {
   "cell_type": "code",
   "execution_count": 71,
   "metadata": {},
   "outputs": [
    {
     "data": {
      "text/plain": [
       "3"
      ]
     },
     "execution_count": 71,
     "metadata": {},
     "output_type": "execute_result"
    }
   ],
   "source": [
    "distance_of_code(errors)"
   ]
  },
  {
   "cell_type": "code",
   "execution_count": 149,
   "metadata": {},
   "outputs": [
    {
     "data": {
      "text/plain": [
       "{(0, 0, 0, 0, 0, 0): 'IIIIIII',\n",
       " (0, 0, 0, 0, 0, 1): 'IIIIIIX',\n",
       " (0, 0, 0, 0, 1, 0): 'IIIIIXI',\n",
       " (0, 0, 0, 0, 1, 1): 'IIIIXII',\n",
       " (0, 0, 0, 1, 0, 0): 'IIIXIII',\n",
       " (0, 0, 0, 1, 0, 1): 'IIXIIII',\n",
       " (0, 0, 0, 1, 1, 0): 'IXIIIII',\n",
       " (0, 0, 0, 1, 1, 1): 'XIIIIII',\n",
       " (0, 0, 1, 0, 0, 0): 'IIIIIIZ',\n",
       " (0, 0, 1, 0, 0, 1): 'IIIIIIY',\n",
       " (0, 0, 1, 0, 1, 0): ['IIIIIXZ', 'IIIIZYI', 'IIIIXIY'],\n",
       " (0, 0, 1, 0, 1, 1): ['IIIIIXY', 'IIIIXIZ', 'IIIIYZI'],\n",
       " (0, 0, 1, 1, 0, 0): ['IIIXIIZ', 'IIZYIII', 'IIXIIIY'],\n",
       " (0, 0, 1, 1, 0, 1): ['IIIXIIY', 'IIXIIIZ', 'IIYZIII'],\n",
       " (0, 0, 1, 1, 1, 0): ['IXIIIIZ', 'ZYIIIII', 'XIIIIIY'],\n",
       " (0, 0, 1, 1, 1, 1): ['IXIIIIY', 'XIIIIIZ', 'YZIIIII'],\n",
       " (0, 1, 0, 0, 0, 0): 'IIIIIZI',\n",
       " (0, 1, 0, 0, 0, 1): ['IIIIIZX', 'IIIIZIY', 'IIIIXYI'],\n",
       " (0, 1, 0, 0, 1, 0): 'IIIIIYI',\n",
       " (0, 1, 0, 0, 1, 1): ['IIIIIYX', 'IIIIXZI', 'IIIIYIZ'],\n",
       " (0, 1, 0, 1, 0, 0): ['IIIXIZI', 'IZIYIII', 'IXIIIYI'],\n",
       " (0, 1, 0, 1, 0, 1): ['IIXIIZI', 'ZIYIIII', 'XIIIIYI'],\n",
       " (0, 1, 0, 1, 1, 0): ['IIIXIYI', 'IXIIIZI', 'IYIZIII'],\n",
       " (0, 1, 0, 1, 1, 1): ['IIXIIYI', 'XIIIIZI', 'YIZIIII'],\n",
       " (0, 1, 1, 0, 0, 0): 'IIIIZII',\n",
       " (0, 1, 1, 0, 0, 1): ['IIIIIZY', 'IIIIZIX', 'IIIIYXI'],\n",
       " (0, 1, 1, 0, 1, 0): ['IIIIIYZ', 'IIIIZXI', 'IIIIYIX'],\n",
       " (0, 1, 1, 0, 1, 1): 'IIIIYII',\n",
       " (0, 1, 1, 1, 0, 0): ['IIIXZII', 'ZIIYIII', 'XIIIYII'],\n",
       " (0, 1, 1, 1, 0, 1): ['IIXIZII', 'IZYIIII', 'IXIIYII'],\n",
       " (0, 1, 1, 1, 1, 0): ['IIXIYII', 'IXIIZII', 'IYZIIII'],\n",
       " (0, 1, 1, 1, 1, 1): ['IIIXYII', 'XIIIZII', 'YIIZIII'],\n",
       " (1, 0, 0, 0, 0, 0): 'IIIZIII',\n",
       " (1, 0, 0, 0, 0, 1): ['IIIZIIX', 'IIZIIIY', 'IIXYIII'],\n",
       " (1, 0, 0, 0, 1, 0): ['IIIZIXI', 'IZIIIYI', 'IXIYIII'],\n",
       " (1, 0, 0, 0, 1, 1): ['IIIZXII', 'ZIIIYII', 'XIIYIII'],\n",
       " (1, 0, 0, 1, 0, 0): 'IIIYIII',\n",
       " (1, 0, 0, 1, 0, 1): ['IIIYIIX', 'IIXZIII', 'IIYIIIZ'],\n",
       " (1, 0, 0, 1, 1, 0): ['IIIYIXI', 'IXIZIII', 'IYIIIZI'],\n",
       " (1, 0, 0, 1, 1, 1): ['IIIYXII', 'XIIZIII', 'YIIIZII'],\n",
       " (1, 0, 1, 0, 0, 0): 'IIZIIII',\n",
       " (1, 0, 1, 0, 0, 1): ['IIIZIIY', 'IIZIIIX', 'IIYXIII'],\n",
       " (1, 0, 1, 0, 1, 0): ['IIZIIXI', 'ZIIIIYI', 'XIYIIII'],\n",
       " (1, 0, 1, 0, 1, 1): ['IIZIXII', 'IZIIYII', 'IXYIIII'],\n",
       " (1, 0, 1, 1, 0, 0): ['IIIYIIZ', 'IIZXIII', 'IIYIIIX'],\n",
       " (1, 0, 1, 1, 0, 1): 'IIYIIII',\n",
       " (1, 0, 1, 1, 1, 0): ['IIYIXII', 'IXZIIII', 'IYIIZII'],\n",
       " (1, 0, 1, 1, 1, 1): ['IIYIIXI', 'XIZIIII', 'YIIIIZI'],\n",
       " (1, 1, 0, 0, 0, 0): 'IZIIIII',\n",
       " (1, 1, 0, 0, 0, 1): ['IZIIIIX', 'ZIIIIIY', 'XYIIIII'],\n",
       " (1, 1, 0, 0, 1, 0): ['IIIZIYI', 'IZIIIXI', 'IYIXIII'],\n",
       " (1, 1, 0, 0, 1, 1): ['IIZIYII', 'IZIIXII', 'IYXIIII'],\n",
       " (1, 1, 0, 1, 0, 0): ['IIIYIZI', 'IZIXIII', 'IYIIIXI'],\n",
       " (1, 1, 0, 1, 0, 1): ['IIYIZII', 'IZXIIII', 'IYIIXII'],\n",
       " (1, 1, 0, 1, 1, 0): 'IYIIIII',\n",
       " (1, 1, 0, 1, 1, 1): ['IYIIIIX', 'XZIIIII', 'YIIIIIZ'],\n",
       " (1, 1, 1, 0, 0, 0): 'ZIIIIII',\n",
       " (1, 1, 1, 0, 0, 1): ['IZIIIIY', 'ZIIIIIX', 'YXIIIII'],\n",
       " (1, 1, 1, 0, 1, 0): ['IIZIIYI', 'ZIIIIXI', 'YIXIIII'],\n",
       " (1, 1, 1, 0, 1, 1): ['IIIZYII', 'ZIIIXII', 'YIIXIII'],\n",
       " (1, 1, 1, 1, 0, 0): ['IIIYZII', 'ZIIXIII', 'YIIIXII'],\n",
       " (1, 1, 1, 1, 0, 1): ['IIYIIZI', 'ZIXIIII', 'YIIIIXI'],\n",
       " (1, 1, 1, 1, 1, 0): ['IYIIIIZ', 'ZXIIIII', 'YIIIIIX'],\n",
       " (1, 1, 1, 1, 1, 1): 'YIIIIII'}"
      ]
     },
     "execution_count": 149,
     "metadata": {},
     "output_type": "execute_result"
    }
   ],
   "source": [
    "syndromes_symplectic2txt(minimum_weight_error(errors))"
   ]
  },
  {
   "cell_type": "code",
   "execution_count": 51,
   "metadata": {},
   "outputs": [
    {
     "data": {
      "text/plain": [
       "[[array([0, 0, 0, 0, 0, 0, 1]), array([0, 1, 0, 0, 0, 0, 1])],\n",
       " [array([0, 0, 0, 0, 0, 0, 1]), array([1, 0, 0, 0, 0, 0, 0])],\n",
       " [array([1, 1, 0, 0, 0, 0, 0]), array([1, 0, 0, 0, 0, 0, 0])]]"
      ]
     },
     "execution_count": 51,
     "metadata": {},
     "output_type": "execute_result"
    }
   ],
   "source": [
    "minimum_weight_error(errors)[(1, 1, 1, 0, 0, 1)]"
   ]
  },
  {
   "cell_type": "code",
   "execution_count": 52,
   "metadata": {},
   "outputs": [
    {
     "data": {
      "text/plain": [
       "array([0, 0, 0, 1, 1, 1])"
      ]
     },
     "execution_count": 52,
     "metadata": {},
     "output_type": "execute_result"
    }
   ],
   "source": [
    "error_syndrome(symplectic_stabilizer(txt), symplectic_stabilizer(\"XIIIIII\"))"
   ]
  },
  {
   "cell_type": "code",
   "execution_count": 55,
   "metadata": {},
   "outputs": [
    {
     "data": {
      "text/plain": [
       "array([1, 1, 0, 0, 0, 0])"
      ]
     },
     "execution_count": 55,
     "metadata": {},
     "output_type": "execute_result"
    }
   ],
   "source": [
    "error_syndrome(symplectic_stabilizer(txt), symplectic_stabilizer(\"IZIIIII\"))"
   ]
  },
  {
   "cell_type": "code",
   "execution_count": 68,
   "metadata": {},
   "outputs": [
    {
     "data": {
      "text/plain": [
       "array([1, 1, 0, 1, 1, 1])"
      ]
     },
     "execution_count": 68,
     "metadata": {},
     "output_type": "execute_result"
    }
   ],
   "source": [
    "error_syndrome(symplectic_stabilizer(txt), symplectic_stabilizer(\"IYIIIIX\"))"
   ]
  },
  {
   "cell_type": "code",
   "execution_count": 58,
   "metadata": {},
   "outputs": [
    {
     "data": {
      "text/plain": [
       "array([1, 1, 0, 1, 1, 1])"
      ]
     },
     "execution_count": 58,
     "metadata": {},
     "output_type": "execute_result"
    }
   ],
   "source": [
    "error_syndrome(symplectic_stabilizer(txt), symplectic_stabilizer(\"XZIIIII\"))"
   ]
  },
  {
   "cell_type": "code",
   "execution_count": 62,
   "metadata": {},
   "outputs": [
    {
     "data": {
      "text/plain": [
       "[array([[0., 1., 0., 0., 0., 0., 1.]]), array([[0., 1., 0., 0., 0., 0., 0.]])]"
      ]
     },
     "execution_count": 62,
     "metadata": {},
     "output_type": "execute_result"
    }
   ],
   "source": [
    "symplectic_stabilizer(\"IYIIIIX\")"
   ]
  },
  {
   "cell_type": "code",
   "execution_count": 63,
   "metadata": {},
   "outputs": [
    {
     "data": {
      "text/plain": [
       "array([0, 0, 0, 1, 1, 1])"
      ]
     },
     "execution_count": 63,
     "metadata": {},
     "output_type": "execute_result"
    }
   ],
   "source": [
    "error_syndrome(symplectic_stabilizer(txt), symplectic_stabilizer(\"IXIIIIX\"))"
   ]
  },
  {
   "cell_type": "code",
   "execution_count": 67,
   "metadata": {},
   "outputs": [
    {
     "data": {
      "text/plain": [
       "array([1, 1, 0, 0, 0, 1])"
      ]
     },
     "execution_count": 67,
     "metadata": {},
     "output_type": "execute_result"
    }
   ],
   "source": [
    "error_syndrome(symplectic_stabilizer(txt), symplectic_stabilizer(\"IZIIIIX\"))"
   ]
  },
  {
   "cell_type": "code",
   "execution_count": 69,
   "metadata": {},
   "outputs": [
    {
     "data": {
      "text/plain": [
       "[array([[0., 1., 0., 0., 0., 0., 1.]]), array([[0., 1., 0., 0., 0., 0., 0.]])]"
      ]
     },
     "execution_count": 69,
     "metadata": {},
     "output_type": "execute_result"
    }
   ],
   "source": [
    "symplectic_stabilizer(\"IYIIIIX\")"
   ]
  },
  {
   "cell_type": "code",
   "execution_count": 147,
   "metadata": {},
   "outputs": [
    {
     "data": {
      "text/plain": [
       "{(0, 0, 0, 0, 0, 0): [],\n",
       " (0, 0, 0, 0, 0, 1): 'IIIIIIX',\n",
       " (0, 0, 0, 0, 1, 0): 'IIIIIXI',\n",
       " (0, 0, 0, 0, 1, 1): 'IIIIXII',\n",
       " (0, 0, 0, 1, 0, 0): 'IIIXIII',\n",
       " (0, 0, 0, 1, 0, 1): 'IIXIIII',\n",
       " (0, 0, 0, 1, 1, 0): 'IXIIIII',\n",
       " (0, 0, 0, 1, 1, 1): 'XIIIIII',\n",
       " (0, 0, 1, 0, 0, 0): 'IIIIIIZ',\n",
       " (0, 0, 1, 0, 0, 1): 'IIIIIIY',\n",
       " (0, 0, 1, 0, 1, 0): [],\n",
       " (0, 0, 1, 0, 1, 1): [],\n",
       " (0, 0, 1, 1, 0, 0): [],\n",
       " (0, 0, 1, 1, 0, 1): [],\n",
       " (0, 0, 1, 1, 1, 0): [],\n",
       " (0, 0, 1, 1, 1, 1): [],\n",
       " (0, 1, 0, 0, 0, 0): 'IIIIIZI',\n",
       " (0, 1, 0, 0, 0, 1): [],\n",
       " (0, 1, 0, 0, 1, 0): 'IIIIIYI',\n",
       " (0, 1, 0, 0, 1, 1): [],\n",
       " (0, 1, 0, 1, 0, 0): [],\n",
       " (0, 1, 0, 1, 0, 1): [],\n",
       " (0, 1, 0, 1, 1, 0): [],\n",
       " (0, 1, 0, 1, 1, 1): [],\n",
       " (0, 1, 1, 0, 0, 0): 'IIIIZII',\n",
       " (0, 1, 1, 0, 0, 1): [],\n",
       " (0, 1, 1, 0, 1, 0): [],\n",
       " (0, 1, 1, 0, 1, 1): 'IIIIYII',\n",
       " (0, 1, 1, 1, 0, 0): [],\n",
       " (0, 1, 1, 1, 0, 1): [],\n",
       " (0, 1, 1, 1, 1, 0): [],\n",
       " (0, 1, 1, 1, 1, 1): [],\n",
       " (1, 0, 0, 0, 0, 0): 'IIIZIII',\n",
       " (1, 0, 0, 0, 0, 1): [],\n",
       " (1, 0, 0, 0, 1, 0): [],\n",
       " (1, 0, 0, 0, 1, 1): [],\n",
       " (1, 0, 0, 1, 0, 0): 'IIIYIII',\n",
       " (1, 0, 0, 1, 0, 1): [],\n",
       " (1, 0, 0, 1, 1, 0): [],\n",
       " (1, 0, 0, 1, 1, 1): [],\n",
       " (1, 0, 1, 0, 0, 0): 'IIZIIII',\n",
       " (1, 0, 1, 0, 0, 1): [],\n",
       " (1, 0, 1, 0, 1, 0): [],\n",
       " (1, 0, 1, 0, 1, 1): [],\n",
       " (1, 0, 1, 1, 0, 0): [],\n",
       " (1, 0, 1, 1, 0, 1): 'IIYIIII',\n",
       " (1, 0, 1, 1, 1, 0): [],\n",
       " (1, 0, 1, 1, 1, 1): [],\n",
       " (1, 1, 0, 0, 0, 0): 'IZIIIII',\n",
       " (1, 1, 0, 0, 0, 1): [],\n",
       " (1, 1, 0, 0, 1, 0): [],\n",
       " (1, 1, 0, 0, 1, 1): [],\n",
       " (1, 1, 0, 1, 0, 0): [],\n",
       " (1, 1, 0, 1, 0, 1): [],\n",
       " (1, 1, 0, 1, 1, 0): 'IYIIIII',\n",
       " (1, 1, 0, 1, 1, 1): [],\n",
       " (1, 1, 1, 0, 0, 0): 'ZIIIIII',\n",
       " (1, 1, 1, 0, 0, 1): [],\n",
       " (1, 1, 1, 0, 1, 0): [],\n",
       " (1, 1, 1, 0, 1, 1): [],\n",
       " (1, 1, 1, 1, 0, 0): [],\n",
       " (1, 1, 1, 1, 0, 1): [],\n",
       " (1, 1, 1, 1, 1, 0): [],\n",
       " (1, 1, 1, 1, 1, 1): 'YIIIIII'}"
      ]
     },
     "execution_count": 147,
     "metadata": {},
     "output_type": "execute_result"
    }
   ],
   "source": [
    "syndromes_symplectic2txt(classify_errors_weight(txt,1))"
   ]
  },
  {
   "cell_type": "code",
   "execution_count": 150,
   "metadata": {},
   "outputs": [],
   "source": [
    "import syndrome as sy"
   ]
  },
  {
   "cell_type": "code",
   "execution_count": 151,
   "metadata": {},
   "outputs": [
    {
     "data": {
      "text/plain": [
       "{(0, 0, 0, 0, 0, 0): [],\n",
       " (0, 0, 0, 0, 0, 1): 'IIIIIIX',\n",
       " (0, 0, 0, 0, 1, 0): 'IIIIIXI',\n",
       " (0, 0, 0, 0, 1, 1): 'IIIIXII',\n",
       " (0, 0, 0, 1, 0, 0): 'IIIXIII',\n",
       " (0, 0, 0, 1, 0, 1): 'IIXIIII',\n",
       " (0, 0, 0, 1, 1, 0): 'IXIIIII',\n",
       " (0, 0, 0, 1, 1, 1): 'XIIIIII',\n",
       " (0, 0, 1, 0, 0, 0): 'IIIIIIZ',\n",
       " (0, 0, 1, 0, 0, 1): 'IIIIIIY',\n",
       " (0, 0, 1, 0, 1, 0): [],\n",
       " (0, 0, 1, 0, 1, 1): [],\n",
       " (0, 0, 1, 1, 0, 0): [],\n",
       " (0, 0, 1, 1, 0, 1): [],\n",
       " (0, 0, 1, 1, 1, 0): [],\n",
       " (0, 0, 1, 1, 1, 1): [],\n",
       " (0, 1, 0, 0, 0, 0): 'IIIIIZI',\n",
       " (0, 1, 0, 0, 0, 1): [],\n",
       " (0, 1, 0, 0, 1, 0): 'IIIIIYI',\n",
       " (0, 1, 0, 0, 1, 1): [],\n",
       " (0, 1, 0, 1, 0, 0): [],\n",
       " (0, 1, 0, 1, 0, 1): [],\n",
       " (0, 1, 0, 1, 1, 0): [],\n",
       " (0, 1, 0, 1, 1, 1): [],\n",
       " (0, 1, 1, 0, 0, 0): 'IIIIZII',\n",
       " (0, 1, 1, 0, 0, 1): [],\n",
       " (0, 1, 1, 0, 1, 0): [],\n",
       " (0, 1, 1, 0, 1, 1): 'IIIIYII',\n",
       " (0, 1, 1, 1, 0, 0): [],\n",
       " (0, 1, 1, 1, 0, 1): [],\n",
       " (0, 1, 1, 1, 1, 0): [],\n",
       " (0, 1, 1, 1, 1, 1): [],\n",
       " (1, 0, 0, 0, 0, 0): 'IIIZIII',\n",
       " (1, 0, 0, 0, 0, 1): [],\n",
       " (1, 0, 0, 0, 1, 0): [],\n",
       " (1, 0, 0, 0, 1, 1): [],\n",
       " (1, 0, 0, 1, 0, 0): 'IIIYIII',\n",
       " (1, 0, 0, 1, 0, 1): [],\n",
       " (1, 0, 0, 1, 1, 0): [],\n",
       " (1, 0, 0, 1, 1, 1): [],\n",
       " (1, 0, 1, 0, 0, 0): 'IIZIIII',\n",
       " (1, 0, 1, 0, 0, 1): [],\n",
       " (1, 0, 1, 0, 1, 0): [],\n",
       " (1, 0, 1, 0, 1, 1): [],\n",
       " (1, 0, 1, 1, 0, 0): [],\n",
       " (1, 0, 1, 1, 0, 1): 'IIYIIII',\n",
       " (1, 0, 1, 1, 1, 0): [],\n",
       " (1, 0, 1, 1, 1, 1): [],\n",
       " (1, 1, 0, 0, 0, 0): 'IZIIIII',\n",
       " (1, 1, 0, 0, 0, 1): [],\n",
       " (1, 1, 0, 0, 1, 0): [],\n",
       " (1, 1, 0, 0, 1, 1): [],\n",
       " (1, 1, 0, 1, 0, 0): [],\n",
       " (1, 1, 0, 1, 0, 1): [],\n",
       " (1, 1, 0, 1, 1, 0): 'IYIIIII',\n",
       " (1, 1, 0, 1, 1, 1): [],\n",
       " (1, 1, 1, 0, 0, 0): 'ZIIIIII',\n",
       " (1, 1, 1, 0, 0, 1): [],\n",
       " (1, 1, 1, 0, 1, 0): [],\n",
       " (1, 1, 1, 0, 1, 1): [],\n",
       " (1, 1, 1, 1, 0, 0): [],\n",
       " (1, 1, 1, 1, 0, 1): [],\n",
       " (1, 1, 1, 1, 1, 0): [],\n",
       " (1, 1, 1, 1, 1, 1): 'YIIIIII'}"
      ]
     },
     "execution_count": 151,
     "metadata": {},
     "output_type": "execute_result"
    }
   ],
   "source": [
    "sy.syndromes_symplectic2txt(classify_errors_weight(txt,1))"
   ]
  },
  {
   "cell_type": "code",
   "execution_count": null,
   "metadata": {},
   "outputs": [],
   "source": []
  }
 ],
 "metadata": {
  "kernelspec": {
   "display_name": "Python 3",
   "language": "python",
   "name": "python3"
  },
  "language_info": {
   "codemirror_mode": {
    "name": "ipython",
    "version": 3
   },
   "file_extension": ".py",
   "mimetype": "text/x-python",
   "name": "python",
   "nbconvert_exporter": "python",
   "pygments_lexer": "ipython3",
   "version": "3.6.9"
  }
 },
 "nbformat": 4,
 "nbformat_minor": 2
}
